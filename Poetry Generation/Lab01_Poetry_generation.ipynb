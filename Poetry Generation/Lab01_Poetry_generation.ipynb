{
 "cells": [
  {
   "cell_type": "markdown",
   "metadata": {},
   "source": [
    "## Lab 01. Poetry generation\n",
    "\n",
    "Let's try to generate some poetry using RNNs. \n",
    "\n",
    "You have several choices here: \n",
    "\n",
    "* The Shakespeare sonnets, file `sonnets.txt` available in the notebook directory.\n",
    "\n",
    "* Роман в стихах \"Евгений Онегин\" Александра Сергеевича Пушкина. В предобработанном виде доступен по [ссылке](https://github.com/attatrol/data_sources/blob/master/onegin.txt).\n",
    "\n",
    "* Some other text source, if it will be approved by the course staff.\n",
    "\n",
    "Text generation can be designed in several steps:\n",
    "    \n",
    "1. Data loading.\n",
    "2. Dictionary generation.\n",
    "3. Data preprocessing.\n",
    "4. Model (neural network) training.\n",
    "5. Text generation (model evaluation).\n"
   ]
  },
  {
   "cell_type": "code",
   "execution_count": 2,
   "metadata": {},
   "outputs": [],
   "source": [
    "import string\n",
    "import os"
   ]
  },
  {
   "cell_type": "markdown",
   "metadata": {},
   "source": [
    "### Data loading: Shakespeare"
   ]
  },
  {
   "cell_type": "markdown",
   "metadata": {},
   "source": [
    "Shakespeare sonnets are awailable at this [link](http://www.gutenberg.org/ebooks/1041?msg=welcome_stranger). In addition, they are stored in the same directory as this notebook (`sonnetes.txt`). Simple preprocessing is already done for you in the next cell: all technical info is dropped."
   ]
  },
  {
   "cell_type": "code",
   "execution_count": 589,
   "metadata": {},
   "outputs": [],
   "source": [
    "# if not os.path.exists('sonnets.txt'):\n",
    "#     !wget https://raw.githubusercontent.com/girafe-ai/ml-mipt/master/homeworks_basic/Lab2_DL/sonnets.txt\n",
    "\n",
    "with open('sonnets.txt', 'r') as iofile:\n",
    "    text = iofile.readlines()\n",
    "    \n",
    "TEXT_START = 45\n",
    "TEXT_END = -368\n",
    "text = text[TEXT_START : TEXT_END]\n",
    "assert len(text) == 2616"
   ]
  },
  {
   "cell_type": "markdown",
   "metadata": {},
   "source": [
    "In opposite to the in-class practice, this time we want to predict complex text. Let's reduce the complexity of the task and lowercase all the symbols.\n",
    "\n",
    "Now variable `text` is a list of strings. Join all the strings into one and lowercase it."
   ]
  },
  {
   "cell_type": "code",
   "execution_count": 590,
   "metadata": {},
   "outputs": [
    {
     "name": "stdout",
     "output_type": "stream",
     "text": [
      "OK!\n"
     ]
    }
   ],
   "source": [
    "# Join all the strings into one and lowercase it\n",
    "# Put result into variable text.\n",
    "\n",
    "# Your great code here\n",
    "out = ''.join(text).lower()\n",
    "\n",
    "assert len(out) == 100225, 'Are you sure you have concatenated all the strings?'\n",
    "assert not any([x in set(out) for x in string.ascii_uppercase]), 'Uppercase letters are present'\n",
    "print('OK!')"
   ]
  },
  {
   "cell_type": "markdown",
   "metadata": {},
   "source": [
    "### Data loading: \"Евгений Онегин\"\n"
   ]
  },
  {
   "cell_type": "code",
   "execution_count": 5,
   "metadata": {},
   "outputs": [],
   "source": [
    "# # !wget https://raw.githubusercontent.com/attatrol/data_sources/master/onegin.txt\n",
    "    \n",
    "# with open('onegin.txt', 'r', encoding='utf8') as iofile:\n",
    "#     text = iofile.readlines()\n",
    "    \n",
    "# text = [x.replace('\\t\\t', '') for x in text]"
   ]
  },
  {
   "cell_type": "markdown",
   "metadata": {},
   "source": [
    "In opposite to the in-class practice, this time we want to predict complex text. Let's reduce the complexity of the task and lowercase all the symbols.\n",
    "\n",
    "Now variable `text` is a list of strings. Join all the strings into one and lowercase it."
   ]
  },
  {
   "cell_type": "code",
   "execution_count": 6,
   "metadata": {},
   "outputs": [],
   "source": [
    "# # Join all the strings into one and lowercase it\n",
    "# # Put result into variable text.\n",
    "\n",
    "# # Your great code here\n",
    "# out = ''.join(text).lower()"
   ]
  },
  {
   "cell_type": "markdown",
   "metadata": {},
   "source": [
    "Put all the characters, that you've seen in the text, into variable `tokens`."
   ]
  },
  {
   "cell_type": "code",
   "execution_count": 594,
   "metadata": {},
   "outputs": [],
   "source": [
    "tokens = sorted(set(out))"
   ]
  },
  {
   "cell_type": "markdown",
   "metadata": {},
   "source": [
    "Create dictionary `token_to_idx = {<char>: <index>}` and dictionary `idx_to_token = {<index>: <char>}`"
   ]
  },
  {
   "cell_type": "code",
   "execution_count": 595,
   "metadata": {},
   "outputs": [],
   "source": [
    "token_to_id = {}\n",
    "id_to_token = {}\n",
    "for _, token in enumerate(tokens):\n",
    "    token_to_id[token] = _\n",
    "    id_to_token[_] = token\n",
    "    \n",
    "\n",
    "# dict <char>:<index>\n",
    "# Your great code here\n",
    "out_ = '\\n'.join([x for x in out.split(\"\\n\\n\") if len(x) > 20])\n",
    "maxlen=60\n",
    "text2=[]\n",
    "for i in range(len(out_)-maxlen-1):\n",
    "    text2.append(out_[i:i+maxlen])\n",
    "num_tokens = len(tokens)\n",
    "MAX_LENGTH = max(map(len, text2))"
   ]
  },
  {
   "cell_type": "markdown",
   "metadata": {},
   "source": [
    "*Comment: in this task we have only 38 different tokens, so let's use one-hot encoding.*"
   ]
  },
  {
   "cell_type": "markdown",
   "metadata": {},
   "source": [
    "### Building the model"
   ]
  },
  {
   "cell_type": "markdown",
   "metadata": {},
   "source": [
    "Now we want to build and train recurrent neural net which would be able to something similar to Shakespeare's poetry.\n",
    "\n",
    "Let's use vanilla RNN, similar to the one created during the lesson."
   ]
  },
  {
   "cell_type": "code",
   "execution_count": 159,
   "metadata": {},
   "outputs": [],
   "source": [
    "from IPython.display import clear_output\n",
    "from random import sample\n",
    "import torch, torch.nn as nn\n",
    "import torch.nn.functional as F\n",
    "import numpy as np\n",
    "from matplotlib import pyplot as plt"
   ]
  },
  {
   "cell_type": "code",
   "execution_count": 596,
   "metadata": {},
   "outputs": [],
   "source": [
    "# Your code here\n",
    "def to_matrix(texts, max_len=None, pad=token_to_id[' '], dtype='int32', batch_first = True):\n",
    "    \"\"\"Casts a list of names into rnn-digestable matrix\"\"\"\n",
    "    max_len = max_len or max(map(len, texts))\n",
    "    texts_ix = np.zeros([len(texts), max_len], dtype) + pad\n",
    "\n",
    "    for i in range(len(texts)):\n",
    "        line_ix = [token_to_id[c] for c in texts[i]]\n",
    "        texts_ix[i, :len(line_ix)] = line_ix\n",
    "        \n",
    "    if not batch_first: # convert [batch, time] into [time, batch]\n",
    "        texts_ix = np.transpose(texts_ix)\n",
    "\n",
    "    return texts_ix\n",
    "\n",
    "class CharRNNLoop(nn.Module):\n",
    "    def __init__(self, num_tokens=num_tokens, emb_size=32, rnn_num_units=128):\n",
    "        super(self.__class__, self).__init__()\n",
    "        self.emb = nn.Embedding(num_tokens, emb_size)\n",
    "        self.rnn = nn.RNN(emb_size, rnn_num_units, batch_first=True)\n",
    "        self.hid_to_logits = nn.Linear(rnn_num_units, num_tokens)\n",
    "        \n",
    "    def forward(self, x, hidden_prev):\n",
    "        out, hidden = self.rnn(self.emb(x), hidden_prev)\n",
    "        next_logits = self.hid_to_logits(out)\n",
    "#         next_logp = F.log_softmax(next_logits, dim=-1)\n",
    "        return hidden, next_logits\n",
    "    \n",
    "    def init_state(self, sequence_length):\n",
    "        return torch.zeros(1, sequence_length, 128)\n",
    "    \n",
    "model = CharRNNLoop()\n",
    "opt = torch.optim.Adam(model.parameters())\n",
    "criterion = nn.NLLLoss()\n",
    "history = []"
   ]
  },
  {
   "cell_type": "markdown",
   "metadata": {},
   "source": [
    "Plot the loss function (axis X: number of epochs, axis Y: loss function)."
   ]
  },
  {
   "cell_type": "code",
   "execution_count": 314,
   "metadata": {},
   "outputs": [
    {
     "data": {
      "image/png": "[encoded data removed]",
      "text/plain": [
       "<Figure size 432x288 with 1 Axes>"
      ]
     },
     "metadata": {
      "needs_background": "light"
     },
     "output_type": "display_data"
    }
   ],
   "source": [
    "for i in range(1000):\n",
    "    batch_ix = to_matrix(sample(text2, 128))\n",
    "    batch_ix = torch.tensor(batch_ix, dtype=torch.int64)\n",
    "    hidden = model.init_state(128)\n",
    "    _, next_logits = model(batch_ix, hidden)\n",
    "    logp_seq = F.log_softmax(next_logits, dim=-1)\n",
    "    loss = criterion(logp_seq[:, :-1].contiguous().view(-1, num_tokens),\n",
    "                 batch_ix[:, 1:].contiguous().view(-1))\n",
    "    \n",
    "    # YOUR CODE HERE\n",
    "    \n",
    "    # train with backprop\n",
    "    loss.backward()\n",
    "    opt.step()\n",
    "    opt.zero_grad()\n",
    "\n",
    "    # YOUR CODE HERE\n",
    "    \n",
    "    history.append(loss.data.numpy())\n",
    "    if (i+1)%100==0:\n",
    "        clear_output(True)\n",
    "        plt.plot(history,label='loss')\n",
    "        plt.legend()\n",
    "        plt.show()\n",
    "\n",
    "assert np.mean(history[:10]) > np.mean(history[-10:]), \"RNN didn't converge.\""
   ]
  },
  {
   "cell_type": "code",
   "execution_count": 315,
   "metadata": {},
   "outputs": [],
   "source": [
    "def generate_sample(char_rnn, seed_phrase=' hello', max_length=MAX_LENGTH, temperature=1.0):\n",
    "    '''\n",
    "    ### Disclaimer: this is an example function for text generation.\n",
    "    ### You can either adapt it in your code or create your own function\n",
    "    \n",
    "    The function generates text given a phrase of length at least SEQ_LENGTH.\n",
    "    :param seed_phrase: prefix characters. The RNN is asked to continue the phrase\n",
    "    :param max_length: maximum output length, including seed_phrase\n",
    "    :param temperature: coefficient for sampling.  higher temperature produces more chaotic outputs, \n",
    "        smaller temperature converges to the single most likely output.\n",
    "        \n",
    "    Be careful with the model output. This model waits logits (not probabilities/log-probabilities)\n",
    "    of the next symbol.\n",
    "    '''\n",
    "    x_sequence = [token_to_id[token] for token in seed_phrase]\n",
    "    x_sequence = torch.tensor([[x_sequence]], dtype=torch.int64)\n",
    "    hid_state = char_rnn.init_state(1)\n",
    "    \n",
    "    for i in range(len(seed_phrase) - 1):\n",
    "        hid_state, _ = char_rnn(x_sequence[:, :, i], hid_state)\n",
    "    \n",
    "    #start generating\n",
    "    for _ in range(max_length - len(seed_phrase)):\n",
    "        hid_state, out = char_rnn(x_sequence[:, :, -1], hid_state)\n",
    "        # Be really careful here with the model output\n",
    "        p_next = F.softmax(out / temperature, dim=-1).data.numpy()[0]\n",
    "        \n",
    "        # sample next token and push it back into x_sequence\n",
    "        next_ix = np.random.choice(len(tokens), p=p_next[0])\n",
    "        next_ix = torch.tensor([[[next_ix]]], dtype=torch.int64)\n",
    "        x_sequence = torch.cat([x_sequence, next_ix], dim=2)\n",
    "    return ''.join([tokens[ix] for ix in x_sequence.data.numpy()[0][0]])"
   ]
  },
  {
   "cell_type": "code",
   "execution_count": 324,
   "metadata": {},
   "outputs": [
    {
     "name": "stdout",
     "output_type": "stream",
     "text": [
      " thine eyes of the thee.\n",
      "  thr blest thy not be the right have i world there beauty i counterank but self doth despot see:\n",
      "    so so then desires the veart the reserve thee with my thy sommons to thy some thou love thee with the right the glate,\n",
      "  and then my worth to be thy some shall etery that find,\n",
      "  when the will grace should beauty abesone, my self beauty chist be be me come and strance thy life the the with the were of the poring astand that this such i cast to keed;\n",
      "    then beauty,\n",
      "  wh\n"
     ]
    }
   ],
   "source": [
    "print(generate_sample(model, seed_phrase = \" \", max_length=500, temperature=0.5))"
   ]
  },
  {
   "cell_type": "code",
   "execution_count": 325,
   "metadata": {},
   "outputs": [
    {
     "name": "stdout",
     "output_type": "stream",
     "text": [
      " thus pis deboud thy elless,\n",
      "  nor brease my defilligusen and houf straise so thy beauty the sweet therefore chind of the is the brease?\n",
      "  that ther in is all those look,\n",
      "  and thus betite wond,\n",
      "  that my poon the ficl's sun and vise,\n",
      "  make gove, must the worth come.\n",
      "    but my our hast love in thou look's says along on they?\n",
      "  that your restros'd somp demempest my worst thee my labuted fied,\n",
      "  with i heavine of state,\n",
      "  and like in thate,\n",
      "  be i grow''s his dweep\n",
      "  to the mans thee retine wher\n"
     ]
    }
   ],
   "source": [
    "print(generate_sample(model, seed_phrase = \" \", max_length=500, temperature=0.8))"
   ]
  },
  {
   "cell_type": "code",
   "execution_count": 327,
   "metadata": {},
   "outputs": [
    {
     "name": "stdout",
     "output_type": "stream",
     "text": [
      " outly, and thou faltast, omk,\n",
      "  i profstant, hold begn,\n",
      "  but that beiny still ey! thou wiencume if ulles show see in,\n",
      "  and more.\n",
      "  nor all be every slays, that doth dicture my end steach right heathad frost he spial;\n",
      "  all hagr be, now ast that they nig thee then thoses from hourt;\n",
      "  that your art,\n",
      "  and or time;\n",
      "  from my frovious,\n",
      "  weil\n",
      "    thou in they dlador wath the substor takes dispice my frieh.\n",
      "  for ambyt more giqed lows, are she love'st i when vielf best my formbrey,\n",
      "  by as my me:\n"
     ]
    }
   ],
   "source": [
    "print(generate_sample(model, seed_phrase = \" \", max_length=500, temperature=1))"
   ]
  },
  {
   "cell_type": "markdown",
   "metadata": {},
   "source": [
    "### More poetic model\n",
    "\n",
    "Let's use LSTM instead of vanilla RNN and compare the results."
   ]
  },
  {
   "cell_type": "markdown",
   "metadata": {},
   "source": [
    "Plot the loss function of the number of epochs. Does the final loss become better?"
   ]
  },
  {
   "cell_type": "code",
   "execution_count": 597,
   "metadata": {},
   "outputs": [],
   "source": [
    "class CharLSTMLoop(nn.Module):\n",
    "    def __init__(self, num_tokens=num_tokens, emb_size=16, rnn_num_units=128):\n",
    "        super(self.__class__, self).__init__()\n",
    "        self.emb = nn.Embedding(num_tokens, emb_size)\n",
    "        self.rnn = nn.LSTM(emb_size, rnn_num_units, batch_first=True)\n",
    "        self.hid_to_logits = nn.Linear(rnn_num_units, num_tokens)\n",
    "        \n",
    "    def forward(self, x, prev_state):\n",
    "        out, state = self.rnn(self.emb(x), prev_state)\n",
    "        next_logits = self.hid_to_logits(out)\n",
    "        return state, next_logits\n",
    "    \n",
    "    def init_state(self, sequence_length):\n",
    "        return (torch.zeros(1, sequence_length, 128),torch.zeros(1, sequence_length, 128))\n",
    "    \n",
    "model2 = CharLSTMLoop()\n",
    "opt = torch.optim.Adam(model2.parameters())\n",
    "criterion = nn.NLLLoss()\n",
    "history = []"
   ]
  },
  {
   "cell_type": "code",
   "execution_count": 598,
   "metadata": {},
   "outputs": [
    {
     "data": {
      "image/png": "[encoded data removed]",
      "text/plain": [
       "<Figure size 432x288 with 1 Axes>"
      ]
     },
     "metadata": {
      "needs_background": "light"
     },
     "output_type": "display_data"
    }
   ],
   "source": [
    "for i in range(1000):\n",
    "    batch_ix = to_matrix(sample(text2, 32))\n",
    "    batch_ix = torch.tensor(batch_ix, dtype=torch.int64)\n",
    "    hidden = model2.init_state(32)\n",
    "    _, next_logits = model2(batch_ix, hidden)\n",
    "    logp_seq = F.log_softmax(next_logits, dim=-1)\n",
    "    loss = criterion(logp_seq[:, :-1].contiguous().view(-1, num_tokens),\n",
    "                 batch_ix[:, 1:].contiguous().view(-1))\n",
    "    \n",
    "    # YOUR CODE HERE\n",
    "    \n",
    "    # train with backprop\n",
    "    loss.backward()\n",
    "    opt.step()\n",
    "    opt.zero_grad()\n",
    "\n",
    "    # YOUR CODE HERE\n",
    "    \n",
    "    history.append(loss.data.numpy())\n",
    "    if (i+1)%100==0:\n",
    "        clear_output(True)\n",
    "        plt.plot(history,label='loss')\n",
    "        plt.legend()\n",
    "        plt.show()\n",
    "\n",
    "assert np.mean(history[:10]) > np.mean(history[-10:]), \"RNN didn't converge.\""
   ]
  },
  {
   "cell_type": "code",
   "execution_count": 599,
   "metadata": {},
   "outputs": [],
   "source": [
    "def generate_sample2(char_rnn, seed_phrase=' hello', max_length=MAX_LENGTH, temperature=1.0):\n",
    "    '''\n",
    "    ### Disclaimer: this is an example function for text generation.\n",
    "    ### You can either adapt it in your code or create your own function\n",
    "    \n",
    "    The function generates text given a phrase of length at least SEQ_LENGTH.\n",
    "    :param seed_phrase: prefix characters. The RNN is asked to continue the phrase\n",
    "    :param max_length: maximum output length, including seed_phrase\n",
    "    :param temperature: coefficient for sampling.  higher temperature produces more chaotic outputs, \n",
    "        smaller temperature converges to the single most likely output.\n",
    "        \n",
    "    Be careful with the model output. This model waits logits (not probabilities/log-probabilities)\n",
    "    of the next symbol.\n",
    "    '''\n",
    "    \n",
    "    x_sequence = [token_to_id[token] for token in seed_phrase]\n",
    "    x_sequence = torch.tensor([[x_sequence]], dtype=torch.int64)\n",
    "    hid_state = char_rnn.init_state(1)\n",
    "    \n",
    "    for i in range(len(seed_phrase) - 1):\n",
    "        _, hid_state = char_rnn(x_sequence[:, :, i], hid_state)\n",
    "    \n",
    "    #start generating\n",
    "    for _ in range(max_length - len(seed_phrase)):\n",
    "        hid_state, out = char_rnn(x_sequence[:, :, -1], hid_state)\n",
    "        # Be really careful here with the model output\n",
    "        p_next = F.softmax(out / temperature, dim=-1).data.numpy()[0]\n",
    "        \n",
    "        # sample next token and push it back into x_sequence\n",
    "        next_ix = np.random.choice(len(tokens), p=p_next[0])\n",
    "        next_ix = torch.tensor([[[next_ix]]], dtype=torch.int64)\n",
    "        x_sequence = torch.cat([x_sequence, next_ix], dim=2)\n",
    "    return ''.join([tokens[ix] for ix in x_sequence.data.numpy()[0][0]])"
   ]
  },
  {
   "cell_type": "markdown",
   "metadata": {},
   "source": [
    "Generate text using the trained net with different `temperature` parameter: `[0.1, 0.2, 0.5, 1.0, 2.0]`.\n",
    "\n",
    "Evaluate the results visually, try to interpret them."
   ]
  },
  {
   "cell_type": "code",
   "execution_count": 600,
   "metadata": {},
   "outputs": [
    {
     "name": "stdout",
     "output_type": "stream",
     "text": [
      " the stare the stare the streets\n",
      "  the stare the stare the stare the start the street the strees dear dears the streets,\n",
      "  and the stare the stare the see the stare the self the self the stare the street,\n",
      "  and the stare the stare the start the stare the self the singe the self the stord,\n",
      "  the store the stare the stare the stare the stare the self the self the start,\n",
      "    the stare the stare the stare the sore the stare the stare the street store the self the stare the street do me thee,\n",
      "  the s\n"
     ]
    }
   ],
   "source": [
    "# Text generation with different temperature values here\n",
    "print(generate_sample2(model2, seed_phrase = \" \", max_length=500, temperature=0.1))"
   ]
  },
  {
   "cell_type": "code",
   "execution_count": 601,
   "metadata": {},
   "outputs": [
    {
     "name": "stdout",
     "output_type": "stream",
     "text": [
      " the some the store the stare the self the dear dear dears the say dears beauty the self thee store the sell and thee thee thee thee of thee thee thee thee,\n",
      "  and the stare the store the thee the stare the since love,\n",
      "  and the with the stare the strend,\n",
      "  the mate the stare the say the self the say dear beart,\n",
      "  and the sine in the shall be the store the self thee the dears i so dear doth the prove thee,\n",
      "    thou that the stare thou thou art the san the self the beauty my seen thee,\n",
      "    thou be\n"
     ]
    }
   ],
   "source": [
    "print(generate_sample2(model2, seed_phrase = \" \", max_length=500, temperature=0.2))"
   ]
  },
  {
   "cell_type": "code",
   "execution_count": 602,
   "metadata": {},
   "outputs": [
    {
     "name": "stdout",
     "output_type": "stream",
     "text": [
      "  and do prows,\n",
      "  for where the say in the dears when thee be the bet,\n",
      "    thy mine and stince treing the giest that in thou art a thee beauty and thee,\n",
      "  and sue this this my the shate in the sender thought.\n",
      "  where to that these i kart the fater'd thou being,\n",
      "    that these thee i gair to the beauty live heart beauty thou bet love broud,\n",
      "  and that thou have then i that in thy seed the love my love,\n",
      "    then plese that thought mise as thou the prown love thee of thy frave\n",
      "  thou that loving th\n"
     ]
    }
   ],
   "source": [
    "print(generate_sample2(model2, seed_phrase = \" \", max_length=500, temperature=0.5))"
   ]
  },
  {
   "cell_type": "code",
   "execution_count": 603,
   "metadata": {},
   "outputs": [
    {
     "name": "stdout",
     "output_type": "stream",
     "text": [
      " do be thou richtwer of thoughss, bicind here my spartoon mist,\n",
      "  but yeart, bid:\n",
      "  but of sengomit\n",
      "  but the brose, yout fooq\n",
      "  shat thee baituen doth night,\n",
      "  a doonde chave i wroch fhight fork, sige is demeberd.\n",
      "  blowat, anmery mals make aloce do done,\n",
      "    tounmymor sorti'd shal wintditt gommser veast,\n",
      "  craie, so ay of my elkis' a dar-nown\n",
      "  the cotlingt shals fhat weartmery which being angingurs in spersse,\n",
      "  o! bist in thee stilst have somen as dom'lss ereth\n",
      "  a chiwn do sorust lode beaut\n"
     ]
    }
   ],
   "source": [
    "print(generate_sample2(model2, seed_phrase = \" \", max_length=500, temperature=1))"
   ]
  },
  {
   "cell_type": "code",
   "execution_count": 604,
   "metadata": {},
   "outputs": [
    {
     "name": "stdout",
     "output_type": "stream",
     "text": [
      " brbaivinst deed: olks; blwavgdiltiwng hiin; ulf ilag'\n",
      "t brfysyisloflmedmio! wothad'(t sicsrind hels bowy eoue,\n",
      ", twoedsy cay'dfs movab\n",
      " i) veetdnes ynis?u?e-- of sklttim eed as!wilf:-.-uwnas aeghys, belirs:.\n",
      " 'ecomun'st:s;s snewncl'st, crickseve?orry; fe, buind, myse byenjay, afv\n",
      ", gwenc' stfimviq\n",
      "  lfo!-\n",
      "i hive; bwangipt qnexr my yoyngry ulpetua.\n",
      "  do-gor aete itel vmlearewbess  adkers'di;\n",
      "  whicht bnofel tios -ipfom; wighat buuz\n",
      "\n",
      "  oagcwerfy, me, wist heach ckalseqdel-mbunusc oef wortoh;o;y?e\n"
     ]
    }
   ],
   "source": [
    "print(generate_sample2(model2, seed_phrase = \" \", max_length=500, temperature=2))"
   ]
  },
  {
   "cell_type": "markdown",
   "metadata": {},
   "source": [
    "### Saving and loading models"
   ]
  },
  {
   "cell_type": "markdown",
   "metadata": {},
   "source": [
    "Save the model to the disk, then load it and generate text. Examples are available [here](https://pytorch.org/tutorials/beginner/saving_loading_models.html])."
   ]
  },
  {
   "cell_type": "code",
   "execution_count": 4,
   "metadata": {
    "collapsed": true
   },
   "outputs": [],
   "source": [
    "# Saving and loading code here\n",
    "torch.save(model2, 'model2.pth')\n",
    "model2 = torch.load('model2.pth')"
   ]
  },
  {
   "cell_type": "markdown",
   "metadata": {},
   "source": [
    "### References\n",
    "1. <a href='http://karpathy.github.io/2015/05/21/rnn-effectiveness/'> Andrew Karpathy blog post about RNN. </a> \n",
    "There are several examples of genration: Shakespeare texts, Latex formulas, Linux Sourse Code and children names.\n",
    "2. <a href='https://github.com/karpathy/char-rnn'> Repo with char-rnn code </a>\n",
    "3. Cool repo with PyTorch examples: [link](https://github.com/spro/practical-pytorch`)"
   ]
  },
  {
   "cell_type": "markdown",
   "metadata": {},
   "source": [
    "***Для интереса добавил аналогичный блок на корпусе текстов Eminem***"
   ]
  },
  {
   "cell_type": "code",
   "execution_count": 341,
   "metadata": {},
   "outputs": [],
   "source": [
    "# Using another corpus (Eminem)\n",
    "import pandas as pd\n",
    "\n",
    "data = pd.read_csv(\"songdata.csv\")"
   ]
  },
  {
   "cell_type": "code",
   "execution_count": 342,
   "metadata": {},
   "outputs": [],
   "source": [
    "out = ''.join(list(data[data['artist'] == 'Eminem']['text'])).lower()\n",
    "tokens = sorted(set(out))\n",
    "token_to_id = {}\n",
    "id_to_token = {}\n",
    "for _, token in enumerate(tokens):\n",
    "    token_to_id[token] = _\n",
    "    id_to_token[_] = token"
   ]
  },
  {
   "cell_type": "code",
   "execution_count": 343,
   "metadata": {},
   "outputs": [],
   "source": [
    "maxlen=40\n",
    "text3=[]\n",
    "for i in range(len(out)-maxlen-1):\n",
    "    text3.append(out[i:i+maxlen])\n",
    "num_tokens = len(tokens)\n",
    "MAX_LENGTH = max(map(len, text3))"
   ]
  },
  {
   "cell_type": "code",
   "execution_count": 345,
   "metadata": {},
   "outputs": [],
   "source": [
    "def to_matrix(texts, max_len=None, pad=token_to_id[' '], dtype='int32', batch_first = True):\n",
    "    \"\"\"Casts a list of names into rnn-digestable matrix\"\"\"\n",
    "    max_len = max_len or max(map(len, texts))\n",
    "    texts_ix = np.zeros([len(texts), max_len], dtype) + pad\n",
    "\n",
    "    for i in range(len(texts)):\n",
    "        line_ix = [token_to_id[c] for c in texts[i]]\n",
    "        texts_ix[i, :len(line_ix)] = line_ix\n",
    "        \n",
    "    if not batch_first: # convert [batch, time] into [time, batch]\n",
    "        texts_ix = np.transpose(texts_ix)\n",
    "\n",
    "    return texts_ix\n",
    "\n",
    "class CharLSTMLoop(nn.Module):\n",
    "    def __init__(self, num_tokens=num_tokens, emb_size=64, rnn_num_units=128):\n",
    "        super(self.__class__, self).__init__()\n",
    "        self.emb = nn.Embedding(num_tokens, emb_size)\n",
    "        self.rnn = nn.LSTM(emb_size, rnn_num_units, batch_first=True)\n",
    "        self.hid_to_logits = nn.Linear(rnn_num_units, num_tokens)\n",
    "        \n",
    "    def forward(self, x, prev_state):\n",
    "#         out, hidden = self.rnn(self.emb(x), hidden_prev)\n",
    "        out, state = self.rnn(self.emb(x), prev_state)\n",
    "        next_logits = self.hid_to_logits(out)\n",
    "        return state, next_logits\n",
    "    \n",
    "    def init_state(self, sequence_length):\n",
    "        return (torch.zeros(1, sequence_length, 128),torch.zeros(1, sequence_length, 128))\n",
    "    \n",
    "model3 = CharLSTMLoop()\n",
    "opt = torch.optim.Adam(model3.parameters(), lr=0.01)\n",
    "criterion = nn.NLLLoss()\n",
    "history = []"
   ]
  },
  {
   "cell_type": "code",
   "execution_count": 347,
   "metadata": {},
   "outputs": [
    {
     "data": {
      "image/png": "[encoded data removed]",
      "text/plain": [
       "<Figure size 432x288 with 1 Axes>"
      ]
     },
     "metadata": {
      "needs_background": "light"
     },
     "output_type": "display_data"
    }
   ],
   "source": [
    "for i in range(3000):\n",
    "    batch_ix = to_matrix(sample(text3, 128))\n",
    "    batch_ix = torch.tensor(batch_ix, dtype=torch.int64)\n",
    "    hidden = model3.init_state(128)\n",
    "    _, next_logits = model3(batch_ix, hidden)\n",
    "    logp_seq = F.log_softmax(next_logits, dim=-1)\n",
    "    # compute loss\n",
    "    loss = criterion(logp_seq[:, :-1].contiguous().view(-1, num_tokens),\n",
    "                 batch_ix[:, 1:].contiguous().view(-1))\n",
    "    \n",
    "    # YOUR CODE HERE\n",
    "    \n",
    "    # train with backprop\n",
    "    loss.backward()\n",
    "    opt.step()\n",
    "    opt.zero_grad()\n",
    "\n",
    "    # YOUR CODE HERE\n",
    "    \n",
    "    history.append(loss.data.numpy())\n",
    "    if (i+1)%100==0:\n",
    "        clear_output(True)\n",
    "        plt.plot(history,label='loss')\n",
    "        plt.legend()\n",
    "        plt.show()\n",
    "\n",
    "assert np.mean(history[:10]) > np.mean(history[-10:]), \"RNN didn't converge.\""
   ]
  },
  {
   "cell_type": "code",
   "execution_count": 348,
   "metadata": {},
   "outputs": [
    {
     "name": "stdout",
     "output_type": "stream",
     "text": [
      " around and as to say  \n",
      "but it ain't no motherfucker, with a second from a little street  \n",
      "a must of you  \n",
      "i got a nine  \n",
      "i ain't gonna go the way it ain't no now  \n",
      "but i guess it's no fly we say what\n"
     ]
    }
   ],
   "source": [
    "def generate_sample2(char_rnn, seed_phrase=' ', max_length=MAX_LENGTH, temperature=1.0):\n",
    "    '''\n",
    "    ### Disclaimer: this is an example function for text generation.\n",
    "    ### You can either adapt it in your code or create your own function\n",
    "    \n",
    "    The function generates text given a phrase of length at least SEQ_LENGTH.\n",
    "    :param seed_phrase: prefix characters. The RNN is asked to continue the phrase\n",
    "    :param max_length: maximum output length, including seed_phrase\n",
    "    :param temperature: coefficient for sampling.  higher temperature produces more chaotic outputs, \n",
    "        smaller temperature converges to the single most likely output.\n",
    "        \n",
    "    Be careful with the model output. This model waits logits (not probabilities/log-probabilities)\n",
    "    of the next symbol.\n",
    "    '''\n",
    "    \n",
    "    x_sequence = [token_to_id[token] for token in seed_phrase]\n",
    "    x_sequence = torch.tensor([[x_sequence]], dtype=torch.int64)\n",
    "    hid_state = char_rnn.init_state(1)\n",
    "    \n",
    "    for i in range(len(seed_phrase) - 1):\n",
    "        hid_state, _ = char_rnn(x_sequence[:, :, i], hid_state)\n",
    "    \n",
    "    #start generating\n",
    "    for _ in range(max_length - len(seed_phrase)):\n",
    "        hid_state, out = char_rnn(x_sequence[:, :, -1], hid_state)\n",
    "        # Be really careful here with the model output\n",
    "        p_next = F.softmax(out / temperature, dim=-1).data.numpy()[0]\n",
    "        \n",
    "        # sample next token and push it back into x_sequence\n",
    "        next_ix = np.random.choice(len(tokens), p=p_next[0])\n",
    "        next_ix = torch.tensor([[[next_ix]]], dtype=torch.int64)\n",
    "        x_sequence = torch.cat([x_sequence, next_ix], dim=2)\n",
    "    return ''.join([tokens[ix] for ix in x_sequence.data.numpy()[0][0]])\n",
    "\n",
    "\n",
    "print(generate_sample2(model3, seed_phrase = \" \", max_length=200, temperature=0.6))"
   ]
  },
  {
   "cell_type": "code",
   "execution_count": 350,
   "metadata": {},
   "outputs": [
    {
     "name": "stdout",
     "output_type": "stream",
     "text": [
      "it's alright in the stop  \n",
      "i just pull a shit  \n",
      "and i stay and the back and be fucked to steps  \n",
      "the shit  \n",
      "the world is the shit  \n",
      "i was done to his some  \n",
      "i get the scratches  \n",
      "it's just a fucking and about me  \n",
      "what the sour  \n",
      "there's no a better lost  \n",
      "it's not a man a could coming a shit is the\n"
     ]
    }
   ],
   "source": [
    "print(generate_sample2(model3, seed_phrase = \"i\", max_length=300, temperature=0.4))"
   ]
  },
  {
   "cell_type": "code",
   "execution_count": 539,
   "metadata": {},
   "outputs": [
    {
     "name": "stdout",
     "output_type": "stream",
     "text": [
      "  \n",
      "i speak up  \n",
      "i'm set  \n",
      "it's no more  \n",
      "i never show me in the man in my mother as i was no more  \n",
      "  \n",
      "you make up to keep it  \n",
      "she don't know i don't know what i was love with a pen  \n",
      "if i had a man, here i ain't no more  \n",
      "you don't know what i wanna say you get me  \n",
      "i don't wanna get it  \n",
      "you hear\n"
     ]
    }
   ],
   "source": [
    "print(generate_sample2(model3, seed_phrase = \" \", max_length=300, temperature=0.45))"
   ]
  },
  {
   "cell_type": "code",
   "execution_count": 585,
   "metadata": {},
   "outputs": [
    {
     "name": "stdout",
     "output_type": "stream",
     "text": [
      " it all and try to stay  \n",
      "i make you the fuckin your corner  \n",
      "then i slim shady) some the shit  \n",
      "i smell i think me and the fuck i ain't no more shoot  \n",
      "they callin'  \n",
      "the way you ain't no ow mouth  \n",
      "i got a charge to all i was done  \n",
      "i'm a pen  \n",
      "you need trick  \n",
      "the make a ball a shit you can be th\n"
     ]
    }
   ],
   "source": [
    "print(generate_sample2(model3, seed_phrase = \" \", max_length=300, temperature=0.45))"
   ]
  },
  {
   "cell_type": "code",
   "execution_count": 804,
   "metadata": {},
   "outputs": [
    {
     "name": "stdout",
     "output_type": "stream",
     "text": [
      "she gonna knows the way you lie  \n",
      "i'm a park and hear the money and i suckin' a girl  \n",
      "man i love you  \n",
      "she seen the light back with the same slim body, i don't want to be you  \n",
      "if you shit a little back with the way you're a ban the dad  \n",
      "but i'm comin' off  \n",
      "and he won't believe you wanna staying to stand why the whole boys and then  \n",
      "i'm take my so been shit  \n",
      "they say they're fucking in the wa\n"
     ]
    }
   ],
   "source": [
    "print(generate_sample2(model3, seed_phrase = \"she\", max_length=400, temperature=0.5))"
   ]
  }
 ],
 "metadata": {
  "anaconda-cloud": {},
  "kernelspec": {
   "display_name": "Python 3",
   "language": "python",
   "name": "python3"
  },
  "language_info": {
   "codemirror_mode": {
    "name": "ipython",
    "version": 3
   },
   "file_extension": ".py",
   "mimetype": "text/x-python",
   "name": "python",
   "nbconvert_exporter": "python",
   "pygments_lexer": "ipython3",
   "version": "3.6.12"
  }
 },
 "nbformat": 4,
 "nbformat_minor": 2
}
