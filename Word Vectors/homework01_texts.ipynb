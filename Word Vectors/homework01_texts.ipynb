{
 "cells": [
  {
   "cell_type": "markdown",
   "metadata": {},
   "source": [
    "## Homework 01. Simple text processing."
   ]
  },
  {
   "cell_type": "code",
   "execution_count": 1,
   "metadata": {},
   "outputs": [],
   "source": [
    "#dl_made_env2"
   ]
  },
  {
   "cell_type": "code",
   "execution_count": 2,
   "metadata": {},
   "outputs": [],
   "source": [
    "# !pip install matplotlib pandas sklearn nltk\n",
    "# !pip install gdown"
   ]
  },
  {
   "cell_type": "code",
   "execution_count": 5,
   "metadata": {},
   "outputs": [],
   "source": [
    "import numpy as np\n",
    "import matplotlib.pyplot as plt\n",
    "%matplotlib inline\n",
    "import pandas as pd\n",
    "from IPython import display\n",
    "from sklearn.model_selection import train_test_split\n",
    "from nltk.tokenize import TweetTokenizer\n",
    "from collections import Counter\n",
    "from tqdm import tqdm as tqdm\n",
    "from sklearn.linear_model import LogisticRegression\n",
    "from sklearn.metrics import roc_auc_score, roc_curve\n",
    "import torch\n",
    "from torch import nn\n",
    "from torch.nn import functional as F\n",
    "from torch.optim.lr_scheduler import StepLR, ReduceLROnPlateau\n",
    "\n",
    "from sklearn.metrics import accuracy_score\n",
    "from utils import plot_train_process\n",
    "from torch.optim.lr_scheduler import StepLR, ReduceLROnPlateau\n",
    "import math\n",
    "from sklearn.naive_bayes import GaussianNB\n",
    "from gensim.models import Word2Vec\n",
    "import gensim\n",
    "import gdown\n",
    "import gzip\n",
    "import shutil\n",
    "\n",
    "\n",
    "from embedding_functions import text_to_bow, splitter, computeReviewTFDict, computeCountDict, computeIDFDict, \\\n",
    "computeReviewTFIDFDict, computeTFIDFVector, get_phrase_embedding\n",
    "from train import train_model"
   ]
  },
  {
   "cell_type": "markdown",
   "metadata": {},
   "source": [
    "### Toxic or not\n",
    "Your main goal in this assignment is to classify, whether the comments are toxic or not. And practice with both classical approaches and PyTorch in the process.\n",
    "\n",
    "*Credits: This homework is inspired by YSDA NLP_course.*\n",
    "\n",
    "*Disclaimer: The used dataset may contain obscene language and is used only as an example of real unfiltered data.*"
   ]
  },
  {
   "cell_type": "code",
   "execution_count": null,
   "metadata": {},
   "outputs": [],
   "source": [
    "# In colab uncomment this cell\n",
    "# ! wget https://raw.githubusercontent.com/neychev/made_nlp_course/master/homeworks/homework01/utils.py -nc"
   ]
  },
  {
   "cell_type": "code",
   "execution_count": null,
   "metadata": {},
   "outputs": [],
   "source": [
    "try:\n",
    "    data = pd.read_csv('comments.tsv', sep='\\t')\n",
    "except FileNotFoundError:\n",
    "    ! wget https://raw.githubusercontent.com/neychev/made_nlp_course/master/datasets/comments_small_dataset/comments.tsv -nc\n",
    "    data = pd.read_csv(\"comments.tsv\", sep='\\t')"
   ]
  },
  {
   "cell_type": "code",
   "execution_count": null,
   "metadata": {},
   "outputs": [],
   "source": [
    "texts = data['comment_text'].values\n",
    "target = data['should_ban'].values\n",
    "data[50::200]"
   ]
  },
  {
   "cell_type": "code",
   "execution_count": null,
   "metadata": {},
   "outputs": [],
   "source": [
    "texts_train, texts_test, y_train, y_test = train_test_split(texts, target, test_size=0.5, random_state=42)"
   ]
  },
  {
   "cell_type": "markdown",
   "metadata": {},
   "source": [
    "__Note:__ it is generally a good idea to split data into train/test before anything is done to them.\n",
    "\n",
    "It guards you against possible data leakage in the preprocessing stage. For example, should you decide to select words present in obscene tweets as features, you should only count those words over the training set. Otherwise your algoritm can cheat evaluation."
   ]
  },
  {
   "cell_type": "markdown",
   "metadata": {},
   "source": [
    "### Preprocessing and tokenization\n",
    "\n",
    "Comments contain raw text with punctuation, upper/lowercase letters and even newline symbols.\n",
    "\n",
    "To simplify all further steps, we'll split text into space-separated tokens using one of nltk tokenizers.\n",
    "\n",
    "Generally, library `nltk` [link](https://www.nltk.org) is widely used in NLP. It is not necessary in here, but mentioned to intoduce it to you."
   ]
  },
  {
   "cell_type": "code",
   "execution_count": null,
   "metadata": {},
   "outputs": [],
   "source": [
    "tokenizer = TweetTokenizer()\n",
    "preprocess = lambda text: ' '.join(tokenizer.tokenize(text.lower()))\n",
    "\n",
    "text = 'How to be a grown-up at work: replace \"I don\\'t want to do that\" with \"Ok, great!\".'\n",
    "print(\"before:\", text,)\n",
    "print(\"after:\", preprocess(text),)"
   ]
  },
  {
   "cell_type": "code",
   "execution_count": null,
   "metadata": {},
   "outputs": [],
   "source": [
    "# task: preprocess each comment in train and test\n",
    "texts_train = np.array([preprocess(x) for x in texts_train])\n",
    "texts_test = np.array([preprocess(x) for x in texts_test])"
   ]
  },
  {
   "cell_type": "code",
   "execution_count": null,
   "metadata": {},
   "outputs": [],
   "source": [
    "# Small check that everything is done properly\n",
    "assert texts_train[5] ==  'who cares anymore . they attack with impunity .'\n",
    "assert texts_test[89] == 'hey todds ! quick q ? why are you so gay'\n",
    "assert len(texts_test) == len(y_test)"
   ]
  },
  {
   "cell_type": "markdown",
   "metadata": {},
   "source": [
    "### Step 1: bag of words\n",
    "\n",
    "One traditional approach to such problem is to use bag of words features:\n",
    "1. build a vocabulary of frequent words (use train data only)\n",
    "2. for each training sample, count the number of times a word occurs in it (for each word in vocabulary).\n",
    "3. consider this count a feature for some classifier\n",
    "\n",
    "__Note:__ in practice, you can compute such features using sklearn. __Please don't do that in the current assignment, though.__\n",
    "* `from sklearn.feature_extraction.text import CountVectorizer, TfidfVectorizer`"
   ]
  },
  {
   "cell_type": "code",
   "execution_count": null,
   "metadata": {},
   "outputs": [],
   "source": [
    "# task: find up to k most frequent tokens in texts_train,\n",
    "# sort them by number of occurences (highest first)\n",
    "k = min(10000, len(set(' '.join(texts_train).split())))\n",
    "\n",
    "#<YOUR CODE>\n",
    "bw_v = {}\n",
    "for item in texts_train:\n",
    "    for item2 in item.split():\n",
    "        if item2 not in bw_v:\n",
    "            bw_v[item2] = 0\n",
    "        bw_v[item2] += 1\n",
    "bw_v['<UNK>'] = 0\n",
    "\n",
    "bow_vocabulary = dict(sorted(bw_v.items(), key=lambda x: -x[1])[:k])\n",
    "tokens = list(bow_vocabulary.keys())\n",
    "\n",
    "print('example features:', sorted(bow_vocabulary)[::100])"
   ]
  },
  {
   "cell_type": "code",
   "execution_count": null,
   "metadata": {},
   "outputs": [],
   "source": [
    "X_train_bow = np.stack([text_to_bow(x, tokens) for x in texts_train])\n",
    "X_test_bow = np.stack([text_to_bow(x, tokens) for x in texts_test])"
   ]
  },
  {
   "cell_type": "code",
   "execution_count": null,
   "metadata": {},
   "outputs": [],
   "source": [
    "# Small check that everything is done properly\n",
    "k_max = len(set(' '.join(texts_train).split()))\n",
    "assert X_train_bow.shape == (len(texts_train), min(k, k_max))\n",
    "assert X_test_bow.shape == (len(texts_test), min(k, k_max))\n",
    "assert np.all(X_train_bow[5:10].sum(-1) == np.array([len(s.split()) for s in  texts_train[5:10]]))\n",
    "assert len(bow_vocabulary) <= min(k, k_max)\n",
    "assert X_train_bow[6, list(bow_vocabulary.keys()).index('.')] == texts_train[6].split().count('.')"
   ]
  },
  {
   "cell_type": "markdown",
   "metadata": {},
   "source": [
    "Now let's do the trick with `sklearn` logistic regression implementation:"
   ]
  },
  {
   "cell_type": "code",
   "execution_count": null,
   "metadata": {},
   "outputs": [],
   "source": [
    "bow_model = LogisticRegression().fit(X_train_bow, y_train)"
   ]
  },
  {
   "cell_type": "code",
   "execution_count": null,
   "metadata": {},
   "outputs": [],
   "source": [
    "for name, X, y, model in [\n",
    "    ('train', X_train_bow, y_train, bow_model),\n",
    "    ('test ', X_test_bow, y_test, bow_model)\n",
    "]:\n",
    "    proba = model.predict_proba(X)[:, 1]\n",
    "    auc = roc_auc_score(y, proba)\n",
    "    plt.plot(*roc_curve(y, proba)[:2], label='%s AUC=%.4f' % (name, auc))\n",
    "\n",
    "plt.plot([0, 1], [0, 1], '--', color='black',)\n",
    "plt.legend(fontsize='large')\n",
    "plt.grid()"
   ]
  },
  {
   "cell_type": "markdown",
   "metadata": {},
   "source": [
    "Seems alright. Now let's create the simple logistic regression using PyTorch. Just like in the classwork."
   ]
  },
  {
   "cell_type": "code",
   "execution_count": null,
   "metadata": {},
   "outputs": [],
   "source": [
    "model = nn.Sequential()\n",
    "model.add_module('l1', nn.Linear(len(tokens), 2))\n",
    "\n",
    "# model.to(device, torch.float32)\n",
    "### YOUR CODE HERE"
   ]
  },
  {
   "cell_type": "markdown",
   "metadata": {},
   "source": [
    "Remember what we discussed about loss functions! `nn.CrossEntropyLoss` combines both log-softmax and `NLLLoss`.\n",
    "\n",
    "__Be careful with it! Criterion `nn.CrossEntropyLoss` with still work with log-softmax output, but it won't allow you to converge to the optimum.__ Next comes small demonstration:"
   ]
  },
  {
   "cell_type": "code",
   "execution_count": null,
   "metadata": {},
   "outputs": [],
   "source": [
    "# opt = ### YOUR CODE HERE\n",
    "loss_function = nn.CrossEntropyLoss()\n",
    "opt = torch.optim.Adam(model.parameters(), lr=1e-3)\n",
    "lr_scheduler = ReduceLROnPlateau(opt, patience=100)\n",
    "criterion = nn.CrossEntropyLoss()"
   ]
  },
  {
   "cell_type": "code",
   "execution_count": null,
   "metadata": {},
   "outputs": [],
   "source": [
    "X_train_bow_torch = torch.tensor(X_train_bow, requires_grad=True)### YOUR CODE HERE\n",
    "X_test_bow_torch = torch.tensor(X_test_bow, requires_grad=True)### YOUR CODE HERE\n",
    "y_train_torch = torch.tensor(y_train, dtype=torch.long)### YOUR CODE HERE\n",
    "y_test_torch = torch.tensor(y_test, dtype=torch.long)### YOUR CODE HERE"
   ]
  },
  {
   "cell_type": "markdown",
   "metadata": {},
   "source": [
    "Let's test that everything is fine"
   ]
  },
  {
   "cell_type": "code",
   "execution_count": null,
   "metadata": {},
   "outputs": [],
   "source": [
    "# example loss\n",
    "loss = loss_function(model(X_train_bow_torch[:3]), y_train_torch[:3])"
   ]
  },
  {
   "cell_type": "code",
   "execution_count": null,
   "metadata": {},
   "outputs": [],
   "source": [
    "assert type(loss.item()) == float"
   ]
  },
  {
   "cell_type": "markdown",
   "metadata": {},
   "source": [
    "Here comes small function to train the model. In future we will take in into separate file, but for this homework it's ok to implement it here. "
   ]
  },
  {
   "cell_type": "code",
   "execution_count": null,
   "metadata": {},
   "outputs": [],
   "source": [
    "# def train_model(\n",
    "#     model,\n",
    "#     opt,\n",
    "#     criterion,\n",
    "#     lr_scheduler,\n",
    "#     X_train_torch,\n",
    "#     y_train_torch,\n",
    "#     X_val_torch,\n",
    "#     y_val_torch,\n",
    "#     n_iterations=300,\n",
    "#     batch_size=32,\n",
    "#     warm_start=False,\n",
    "#     show_plots=True,\n",
    "#     eval_every=10\n",
    "# ):\n",
    "#     if not warm_start:\n",
    "#         for name, module in model.named_children():\n",
    "# #             print('resetting ', name)\n",
    "#             try:\n",
    "#                 module.reset_parameters()\n",
    "#             except AttributeError as e:\n",
    "#                 print('Cannot reset {} module parameters: {}'.format(name, e))\n",
    "\n",
    "#     train_loss_history = []\n",
    "#     train_acc_history = []\n",
    "#     val_loss_history = []\n",
    "#     val_acc_history = []\n",
    "\n",
    "#     local_train_loss_history = []\n",
    "#     local_train_acc_history = []\n",
    "#     for i in range(n_iterations):\n",
    "\n",
    "#         # sample 256 random observations\n",
    "#         ix = np.random.randint(0, len(X_train_torch), batch_size)\n",
    "#         x_batch = X_train_torch[ix]\n",
    "#         y_batch = y_train_torch[ix]\n",
    "\n",
    "#         # predict log-probabilities or logits\n",
    "#         y_predicted = model(x_batch) ### YOUR CODE\n",
    "# #         print(y_predicted)\n",
    "\n",
    "#         # compute loss, just like before\n",
    "#         ### YOUR CODE\n",
    "#         loss = criterion(y_predicted, y_batch)\n",
    "        \n",
    "#         # compute gradients\n",
    "#         ### YOUR CODE\n",
    "#         loss.backward()\n",
    "\n",
    "#         # Adam step\n",
    "#         ### YOUR CODE\n",
    "#         opt.step()\n",
    "\n",
    "#         # clear gradients\n",
    "#         ### YOUR CODE\n",
    "#         opt.zero_grad()\n",
    "\n",
    "\n",
    "#         local_train_loss_history.append(loss.data.numpy())\n",
    "# #         lr_scheduler.step(local_train_loss_history[-1])\n",
    "#         local_train_acc_history.append(\n",
    "#             accuracy_score(\n",
    "#                 y_batch.to('cpu').detach().numpy(),\n",
    "#                 y_predicted.to('cpu').detach().numpy().argmax(axis=1)\n",
    "#             )\n",
    "#         )\n",
    "\n",
    "#         if i % eval_every == 0:\n",
    "#             train_loss_history.append(np.mean(local_train_loss_history))\n",
    "#             train_acc_history.append(np.mean(local_train_acc_history))\n",
    "#             local_train_loss_history, local_train_acc_history = [], []\n",
    "\n",
    "#             predictions_val = model(X_val_torch)\n",
    "#             val_loss_history.append(loss_function(predictions_val, y_val_torch).to('cpu').detach().item())\n",
    "\n",
    "#             acc_score_val = accuracy_score(y_val_torch.cpu().numpy(), predictions_val.to('cpu').detach().numpy().argmax(axis=1))\n",
    "#             val_acc_history.append(acc_score_val)\n",
    "#             lr_scheduler.step(train_loss_history[-1])\n",
    "\n",
    "#             if show_plots:\n",
    "#                 display.clear_output(wait=True)\n",
    "#                 plot_train_process(train_loss_history, val_loss_history, train_acc_history, val_acc_history)\n",
    "#     return model"
   ]
  },
  {
   "cell_type": "markdown",
   "metadata": {},
   "source": [
    "Let's run it on the data. Note, that here we use the `test` part of the data for validation. It's not so good idea in general, but in this task our main goal is practice."
   ]
  },
  {
   "cell_type": "code",
   "execution_count": null,
   "metadata": {},
   "outputs": [],
   "source": [
    "train_model(model, opt, criterion, lr_scheduler, X_train_bow_torch, y_train_torch, X_test_bow_torch, y_test_torch)"
   ]
  },
  {
   "cell_type": "code",
   "execution_count": null,
   "metadata": {},
   "outputs": [],
   "source": [
    "# from sklearn.metrics import roc_auc_score, roc_curve\n",
    "for name, X, y, model in [\n",
    "    ('train', X_train_bow_torch, y_train, model),\n",
    "    ('test ', X_test_bow_torch, y_test, model)\n",
    "]:\n",
    "    proba = model(X).detach().cpu().numpy()[:, 1]\n",
    "    auc = roc_auc_score(y, proba)\n",
    "    plt.plot(*roc_curve(y, proba)[:2], label='%s AUC=%.4f' % (name, auc))\n",
    "\n",
    "plt.plot([0, 1], [0, 1], '--', color='black',)\n",
    "plt.legend(fontsize='large')\n",
    "plt.grid()"
   ]
  },
  {
   "cell_type": "markdown",
   "metadata": {},
   "source": [
    "Try to vary the number of tokens `k` and check how the model performance changes. Show it on a plot."
   ]
  },
  {
   "cell_type": "code",
   "execution_count": null,
   "metadata": {},
   "outputs": [],
   "source": [
    "# Your beautiful code here\n",
    "results = {\n",
    "    'train': [],\n",
    "    'test': [],\n",
    "    'k': []\n",
    "}\n",
    "\n",
    "for k in range(100, 10100, 500):\n",
    "    results['k'].append(k)\n",
    "    bow_vocabulary = dict(sorted(bw_v.items(), key=lambda x: -x[1])[:k])\n",
    "    tokens = list(bow_vocabulary.keys())\n",
    "    X_train_bow = np.stack([text_to_bow(x, tokens) for x in texts_train])\n",
    "    X_test_bow = np.stack([text_to_bow(x, tokens) for x in texts_test])\n",
    "    X_train_bow_torch = torch.tensor(X_train_bow, requires_grad=True)### YOUR CODE HERE\n",
    "    X_test_bow_torch = torch.tensor(X_test_bow, requires_grad=True)### YOUR CODE HERE\n",
    "    y_train_torch = torch.tensor(y_train, dtype=torch.long)### YOUR CODE HERE\n",
    "    y_test_torch = torch.tensor(y_test, dtype=torch.long)### YOUR CODE HERE\n",
    "    \n",
    "    model = nn.Sequential()\n",
    "    model.add_module('l1', nn.Linear(len(tokens), 2))\n",
    "    opt = torch.optim.Adam(model.parameters(), lr=1e-3)\n",
    "    lr_scheduler = ReduceLROnPlateau(opt, patience=100)\n",
    "    criterion = nn.CrossEntropyLoss()\n",
    "    \n",
    "    train_model(model, opt, criterion, lr_scheduler, X_train_bow_torch, y_train_torch, X_test_bow_torch, y_test_torch, show_plots=False)\n",
    "    \n",
    "    for name, X, y, model in [\n",
    "        ('train', X_train_bow_torch, y_train, model),\n",
    "        ('test', X_test_bow_torch, y_test, model)\n",
    "    ]:\n",
    "        proba = model(X).detach().cpu().numpy()[:, 1]\n",
    "        auc = roc_auc_score(y, proba)\n",
    "        results[name].append(auc)\n",
    "        \n",
    "plt.plot(results['k'], results['train'], color='orange', label='Train AUC by k')\n",
    "plt.plot(results['k'], results['test'], color='black', label='Test AUC by k')\n",
    "plt.legend(fontsize='large')\n",
    "plt.grid()"
   ]
  },
  {
   "cell_type": "markdown",
   "metadata": {},
   "source": [
    "### Step 2: implement TF-IDF features\n",
    "\n",
    "Not all words are equally useful. One can prioritize rare words and downscale words like \"and\"/\"or\" by using __tf-idf features__. This abbreviation stands for __text frequency/inverse document frequence__ and means exactly that:\n",
    "\n",
    "$$ feature_i = { Count(word_i \\in x) \\times { log {N \\over Count(word_i \\in D) + \\alpha} }}, $$\n",
    "\n",
    "\n",
    "where x is a single text, D is your dataset (a collection of texts), N is a total number of documents and $\\alpha$ is a smoothing hyperparameter (typically 1). \n",
    "And $Count(word_i \\in D)$ is the number of documents where $word_i$ appears.\n",
    "\n",
    "It may also be a good idea to normalize each data sample after computing tf-idf features.\n",
    "\n",
    "__Your task:__ implement tf-idf features, train a model and evaluate ROC curve. Compare it with basic BagOfWords model from above.\n",
    "\n",
    "__Please don't use sklearn/nltk builtin tf-idf vectorizers in your solution :)__ You can still use 'em for debugging though."
   ]
  },
  {
   "cell_type": "markdown",
   "metadata": {},
   "source": [
    "Blog post about implementing the TF-IDF features from scratch: https://triton.ml/blog/tf-idf-from-scratch"
   ]
  },
  {
   "cell_type": "code",
   "execution_count": null,
   "metadata": {},
   "outputs": [],
   "source": [
    "# Your beautiful code here\n",
    "data_train_tfidf = [splitter(x) for x in texts_train.copy()]\n",
    "data_test_tfidf = [splitter(x) for x in texts_test.copy()]\n",
    "tfDict = list(map(computeReviewTFDict, data_train_tfidf))\n",
    "tfDict_test = list(map(computeReviewTFDict, data_test_tfidf))\n",
    "countDict = computeCountDict(tfDict)\n",
    "idfDict = computeIDFDict(data_train_tfidf, countDict)\n",
    "\n",
    "#Stores the TF-IDF dictionaries\n",
    "tfidfDict = [computeReviewTFIDFDict(review, idfDict) for review in tfDict]\n",
    "tfidfDict_test = [computeReviewTFIDFDict(review, idfDict) for review in tfDict_test]\n",
    "wordDict = sorted(countDict.keys())"
   ]
  },
  {
   "cell_type": "code",
   "execution_count": null,
   "metadata": {},
   "outputs": [],
   "source": [
    "#TfIdf vector\n",
    "tfidfVector = [computeTFIDFVector(review, wordDict) for review in tfidfDict]\n",
    "tfidfVector_test = [computeTFIDFVector(review, wordDict) for review in tfidfDict_test]"
   ]
  },
  {
   "cell_type": "code",
   "execution_count": null,
   "metadata": {},
   "outputs": [],
   "source": [
    "# Creating model\n",
    "model = nn.Sequential()\n",
    "model.add_module('l1', nn.Linear(len(tfidfVector[0]), 2))\n",
    "opt = torch.optim.Adam(model.parameters(), lr=1e-3)\n",
    "lr_scheduler = ReduceLROnPlateau(opt, patience=10)\n",
    "criterion = nn.CrossEntropyLoss()"
   ]
  },
  {
   "cell_type": "markdown",
   "metadata": {},
   "source": [
    "Same stuff about moel and optimizers here (or just omit it, if you are using the same model as before)."
   ]
  },
  {
   "cell_type": "code",
   "execution_count": null,
   "metadata": {},
   "outputs": [],
   "source": [
    "# Creating torch tensors\n",
    "X_train_tfidf_torch = torch.tensor(tfidfVector, requires_grad=True)### YOUR CODE HERE\n",
    "X_test_tfidf_torch = torch.tensor(tfidfVector_test, requires_grad=True)### YOUR CODE HERE\n",
    "y_train_torch = torch.tensor(y_train)### YOUR CODE HERE\n",
    "y_test_torch = torch.tensor(y_test)### YOUR CODE HERE\n",
    "\n",
    "# Training model\n",
    "train_model(model, opt, criterion, lr_scheduler, X_train_tfidf_torch, y_train_torch, X_test_tfidf_torch, y_test_torch, n_iterations=300, show_plots=True)\n",
    "\n",
    "# Plotting resilts\n",
    "for name, X, y, model in [\n",
    "    ('train', X_train_tfidf_torch, y_train, model),\n",
    "    ('test ', X_test_tfidf_torch, y_test, model)\n",
    "]:\n",
    "    proba = model(X).detach().cpu().numpy()[:, 1]\n",
    "    auc = roc_auc_score(y, proba)\n",
    "    plt.plot(*roc_curve(y, proba)[:2], label='%s AUC=%.4f' % (name, auc))\n",
    "\n",
    "plt.plot([0, 1], [0, 1], '--', color='black',)\n",
    "plt.legend(fontsize='large')\n",
    "plt.grid()"
   ]
  },
  {
   "cell_type": "markdown",
   "metadata": {},
   "source": [
    "Fit your model to the data. No not hesitate to vary number of iterations, learning rate and so on.\n",
    "\n",
    "_Note: due to very small dataset, increasing the complexity of the network might not be the best idea._"
   ]
  },
  {
   "cell_type": "markdown",
   "metadata": {},
   "source": [
    "### Step 3: Comparing it with Naive Bayes\n",
    "\n",
    "Naive Bayes classifier is a good choice for such small problems. Try to tune it for both BOW and TF-iDF features. Compare the results with Logistic Regression."
   ]
  },
  {
   "cell_type": "code",
   "execution_count": null,
   "metadata": {},
   "outputs": [],
   "source": [
    "# Your beautiful code here\n",
    "#BOW\n",
    "bow_vocabulary = dict(sorted(bw_v.items(), key=lambda x: -x[1]))\n",
    "tokens = list(bow_vocabulary.keys())\n",
    "X_train_bow = np.stack([text_to_bow(x, tokens) for x in texts_train])\n",
    "X_test_bow = np.stack([text_to_bow(x, tokens) for x in texts_test])\n",
    "\n",
    "bow_nb_model = GaussianNB().fit(X_train_bow, y_train)\n",
    "for name, X, y, model in [\n",
    "    ('train', X_train_bow, y_train, bow_nb_model),\n",
    "    ('test ', X_test_bow, y_test, bow_nb_model)\n",
    "]:\n",
    "    proba = model.predict_proba(X)[:, 1]\n",
    "    auc = roc_auc_score(y, proba)\n",
    "    plt.plot(*roc_curve(y, proba)[:2], label='%s AUC=%.4f' % (name, auc))\n",
    "\n",
    "plt.plot([0, 1], [0, 1], '--', color='black',)\n",
    "plt.legend(fontsize='large')\n",
    "plt.grid()"
   ]
  },
  {
   "cell_type": "code",
   "execution_count": null,
   "metadata": {},
   "outputs": [],
   "source": [
    "#TFIDF\n",
    "tfidf_nb_model = GaussianNB().fit(tfidfVector, y_train)\n",
    "for name, X, y, model in [\n",
    "    ('train', tfidfVector, y_train, tfidf_nb_model),\n",
    "    ('test ', tfidfVector_test, y_test, tfidf_nb_model)\n",
    "]:\n",
    "    proba = model.predict_proba(X)[:, 1]\n",
    "    auc = roc_auc_score(y, proba)\n",
    "    plt.plot(*roc_curve(y, proba)[:2], label='%s AUC=%.4f' % (name, auc))\n",
    "\n",
    "plt.plot([0, 1], [0, 1], '--', color='black',)\n",
    "plt.legend(fontsize='large')\n",
    "plt.grid()"
   ]
  },
  {
   "cell_type": "markdown",
   "metadata": {},
   "source": [
    "Shape some thoughts on the results you aquired. Which model has show the best performance? Did changing the learning rate/lr scheduler help?"
   ]
  },
  {
   "cell_type": "markdown",
   "metadata": {},
   "source": [
    "_Your beautiful thoughts here_"
   ]
  },
  {
   "cell_type": "markdown",
   "metadata": {},
   "source": [
    "### Step 4: Using the external knowledge.\n",
    "\n",
    "Use the `gensim` word2vec pretrained model to translate words into vectors. Use several models with this new encoding technique. Compare the results, share your thoughts."
   ]
  },
  {
   "cell_type": "code",
   "execution_count": null,
   "metadata": {},
   "outputs": [],
   "source": [
    "# Your beautiful code here\n",
    "model_w2v = Word2Vec(data_train_tfidf, \n",
    "                 size=256,      # embedding vector size\n",
    "                 min_count=5,  # consider words that occured at least 5 times\n",
    "                 window=15).wv"
   ]
  },
  {
   "cell_type": "code",
   "execution_count": null,
   "metadata": {},
   "outputs": [],
   "source": [
    "X_train_w2v = np.array([get_phrase_embedding(x, model_w2v) for x in texts_train])\n",
    "X_test_w2v = np.array([get_phrase_embedding(x, model_w2v) for x in texts_test])\n",
    "\n",
    "X_train_w2v_torch = torch.tensor(X_train_w2v, requires_grad=True)### YOUR CODE HERE\n",
    "X_test_w2v_torch = torch.tensor(X_test_w2v, requires_grad=True)### YOUR CODE HERE\n",
    "y_train_torch = torch.tensor(y_train, dtype=torch.long)### YOUR CODE HERE\n",
    "y_test_torch = torch.tensor(y_test, dtype=torch.long)### YOUR CODE HERE\n",
    "\n",
    "model = nn.Sequential()\n",
    "model.add_module('l1', nn.Linear(len(X_train_w2v[0]), 2))\n",
    "opt = torch.optim.Adam(model.parameters(), lr=1e-3)\n",
    "lr_scheduler = ReduceLROnPlateau(opt, patience=10)\n",
    "criterion = nn.CrossEntropyLoss()\n",
    "train_model(model, opt, criterion, lr_scheduler, X_train_w2v_torch, y_train_torch, X_test_w2v_torch, y_test_torch, batch_size=128, show_plots=True)\n",
    "\n",
    "for name, X, y, model_ in [\n",
    "    ('train', X_train_w2v_torch, y_train, model),\n",
    "    ('test', X_test_w2v_torch, y_test, model)\n",
    "]:\n",
    "    proba = model_(X).detach().cpu().numpy()[:, 1]\n",
    "    auc = roc_auc_score(y, proba)\n",
    "    plt.plot(*roc_curve(y, proba)[:2], label='%s AUC=%.4f' % (name, auc))\n",
    "    plt.plot([0, 1], [0, 1], '--', color='black',)\n",
    "    plt.legend(fontsize='large')\n",
    "    plt.grid()"
   ]
  },
  {
   "cell_type": "code",
   "execution_count": null,
   "metadata": {},
   "outputs": [],
   "source": [
    "url = 'https://drive.google.com/uc?id=1qhOAD0Xm7W1KwGubcfU6UVxFs4RSKIHp'\n",
    "# https://drive.google.com/file/d/1qhOAD0Xm7W1KwGubcfU6UVxFs4RSKIHp/view?usp=sharing\n",
    "output = 'GoogleNews-vectors-negative300.bin.gz'\n",
    "gdown.download(url, output, quiet=False)"
   ]
  },
  {
   "cell_type": "code",
   "execution_count": null,
   "metadata": {},
   "outputs": [],
   "source": [
    "with gzip.open('GoogleNews-vectors-negative300.bin.gz', 'rb') as f_in:\n",
    "    with open(\"GoogleNews-vectors-negative300.bin\", 'wb') as f_out:\n",
    "        shutil.copyfileobj(f_in, f_out)"
   ]
  },
  {
   "cell_type": "code",
   "execution_count": 6,
   "metadata": {},
   "outputs": [],
   "source": [
    "g_model = gensim.models.KeyedVectors.load_word2vec_format('GoogleNews-vectors-negative300.bin', binary=True)  "
   ]
  },
  {
   "cell_type": "code",
   "execution_count": 14,
   "metadata": {},
   "outputs": [
    {
     "data": {
      "text/plain": [
       "[('dogs', 0.8680489659309387),\n",
       " ('puppy', 0.8106428384780884),\n",
       " ('pit_bull', 0.780396044254303),\n",
       " ('pooch', 0.7627377510070801),\n",
       " ('cat', 0.7609456777572632),\n",
       " ('golden_retriever', 0.7500902414321899),\n",
       " ('German_shepherd', 0.7465174198150635),\n",
       " ('Rottweiler', 0.7437614798545837),\n",
       " ('beagle', 0.7418621778488159),\n",
       " ('pup', 0.740691065788269)]"
      ]
     },
     "execution_count": 14,
     "metadata": {},
     "output_type": "execute_result"
    }
   ],
   "source": [
    "g_model.most_similar(positive=['dog'])"
   ]
  },
  {
   "cell_type": "code",
   "execution_count": null,
   "metadata": {},
   "outputs": [],
   "source": [
    "X_train_w2v_google = np.array([get_phrase_embedding(x, g_model) for x in texts_train])\n",
    "X_test_w2v_google = np.array([get_phrase_embedding(x, g_model) for x in texts_test])\n",
    "\n",
    "X_train_w2v_torch_google = torch.tensor(X_train_w2v_google, requires_grad=True)### YOUR CODE HERE\n",
    "X_test_w2v_torch_google = torch.tensor(X_test_w2v_google, requires_grad=True)### YOUR CODE HERE\n",
    "y_train_torch = torch.tensor(y_train, dtype=torch.long)### YOUR CODE HERE\n",
    "y_test_torch = torch.tensor(y_test, dtype=torch.long)### YOUR CODE HERE\n",
    "\n",
    "model = nn.Sequential()\n",
    "model.add_module('l1', nn.Linear(len(X_train_w2v_google[0]), 2))\n",
    "opt = torch.optim.Adam(model.parameters(), lr=1e-3)\n",
    "lr_scheduler = ReduceLROnPlateau(opt, patience=100)\n",
    "criterion = nn.CrossEntropyLoss()\n",
    "\n",
    "train_model(model, opt, criterion, lr_scheduler, X_train_w2v_torch_google, y_train_torch, X_test_w2v_torch_google, y_test_torch, batch_size=2056, n_iterations=2000, show_plots=True)\n",
    "\n",
    "for name, X, y, model_ in [\n",
    "    ('train', X_train_w2v_torch_google, y_train, model),\n",
    "    ('test', X_test_w2v_torch_google, y_test, model)\n",
    "]:\n",
    "    proba = model_(X).detach().cpu().numpy()[:, 1]\n",
    "    auc = roc_auc_score(y, proba)\n",
    "    plt.plot(*roc_curve(y, proba)[:2], label='%s AUC=%.4f' % (name, auc))\n",
    "plt.plot([0, 1], [0, 1], '--', color='black',)\n",
    "plt.legend(fontsize='large')\n",
    "plt.grid()"
   ]
  }
 ],
 "metadata": {
  "kernelspec": {
   "display_name": "Python 3",
   "language": "python",
   "name": "python3"
  },
  "language_info": {
   "codemirror_mode": {
    "name": "ipython",
    "version": 3
   },
   "file_extension": ".py",
   "mimetype": "text/x-python",
   "name": "python",
   "nbconvert_exporter": "python",
   "pygments_lexer": "ipython3",
   "version": "3.6.12"
  }
 },
 "nbformat": 4,
 "nbformat_minor": 2
}
